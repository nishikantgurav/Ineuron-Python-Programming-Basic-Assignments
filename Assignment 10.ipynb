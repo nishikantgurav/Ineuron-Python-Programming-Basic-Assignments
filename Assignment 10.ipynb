{
 "cells": [
  {
   "cell_type": "markdown",
   "metadata": {},
   "source": [
    "### 1. Write a Python program to find sum of elements in list?"
   ]
  },
  {
   "cell_type": "code",
   "execution_count": 1,
   "metadata": {},
   "outputs": [
    {
     "name": "stdout",
     "output_type": "stream",
     "text": [
      "Enter Number of elements: 5\n",
      "Enter Number4\n",
      "Enter Number8\n",
      "Enter Number2\n",
      "Enter Number3\n",
      "Enter Number5\n",
      "22\n"
     ]
    }
   ],
   "source": [
    "import logging as lg\n",
    "lg.basicConfig(filename='error.log' , level=lg.INFO)\n",
    "class sum_elements:\n",
    "        def __init__(self,n):\n",
    "            self.n=n\n",
    "            \n",
    "        def sum_result(self):\n",
    "            try:\n",
    "                li=[]\n",
    "                mysum=0\n",
    "                for i in range(self.n):\n",
    "                    li.append(int(input(\"Enter Number\")))\n",
    "                for i in range(self.n):\n",
    "                    mysum+=li[i]\n",
    "                print(mysum)\n",
    "            except Exception as e:\n",
    "                lg.info(str(e))\n",
    "            \n",
    "\n",
    "            \n",
    "            \n",
    "            \n",
    "try:\n",
    "    n = int(input(\"Enter Number of elements: \"))\n",
    "    obj  = sum_elements(n)\n",
    "    obj.sum_result()\n",
    "except Exception as e:\n",
    "      lf.info(str(e))"
   ]
  },
  {
   "cell_type": "markdown",
   "metadata": {},
   "source": [
    "### 2. Write a Python program to Multiply all numbers in the list?"
   ]
  },
  {
   "cell_type": "code",
   "execution_count": 2,
   "metadata": {},
   "outputs": [
    {
     "name": "stdout",
     "output_type": "stream",
     "text": [
      "Enter Number of elements: 5\n",
      "Enter Number: 23\n",
      "Enter Number: 1\n",
      "Enter Number: 5\n",
      "Enter Number: 1\n",
      "Enter Number: 2\n",
      "230\n"
     ]
    }
   ],
   "source": [
    "import logging as lg\n",
    "lg.basicConfig(filename='error.log' , level=lg.INFO)\n",
    "class sum_elements:\n",
    "        def __init__(self,n):\n",
    "            self.n=n\n",
    "            \n",
    "        def fun(self):\n",
    "            try:\n",
    "                li=[]\n",
    "                mysum=1\n",
    "                for i in range(self.n):\n",
    "                    li.append(int(input(\"Enter Number: \")))\n",
    "                for i in range(self.n):\n",
    "                    mysum*=li[i]\n",
    "                print(mysum)\n",
    "            except Exception as e:\n",
    "                lg.info(str(e))         \n",
    "try:\n",
    "    n = int(input(\"Enter Number of elements: \"))\n",
    "    obj  = sum_elements(n)\n",
    "    obj.fun()\n",
    "except Exception as e:\n",
    "      lf.info(str(e))"
   ]
  },
  {
   "cell_type": "markdown",
   "metadata": {},
   "source": [
    "### 3. Write a Python program to find smallest number in a list?"
   ]
  },
  {
   "cell_type": "code",
   "execution_count": 3,
   "metadata": {},
   "outputs": [
    {
     "name": "stdout",
     "output_type": "stream",
     "text": [
      "Enter Number of elements: 3\n",
      "Enter Number: 5\n",
      "Enter Number: 2\n",
      "Enter Number: 5\n",
      "2\n"
     ]
    }
   ],
   "source": [
    "import logging as lg\n",
    "lg.basicConfig(filename='error.log' , level=lg.INFO)\n",
    "class sum_elements:\n",
    "        def __init__(self,n):\n",
    "            self.n=n\n",
    "            \n",
    "        def fun(self):\n",
    "            try:\n",
    "                li=[]\n",
    "                for i in range(self.n):\n",
    "                    li.append(int(input(\"Enter Number: \")))\n",
    "                print(min(li))\n",
    "            except Exception as e:\n",
    "                lg.info(str(e))      \n",
    "try:\n",
    "    n = int(input(\"Enter Number of elements: \"))\n",
    "    obj  = sum_elements(n)\n",
    "    obj.fun()\n",
    "except Exception as e:\n",
    "      lf.info(str(e))"
   ]
  },
  {
   "cell_type": "markdown",
   "metadata": {},
   "source": [
    "### 4. Write a Python program to find largest number in a list?"
   ]
  },
  {
   "cell_type": "code",
   "execution_count": 4,
   "metadata": {},
   "outputs": [
    {
     "name": "stdout",
     "output_type": "stream",
     "text": [
      "Enter Number of elements: 4\n",
      "Enter Number: 2\n",
      "Enter Number: 87\n",
      "Enter Number: 2\n",
      "Enter Number: 5\n",
      "87\n"
     ]
    }
   ],
   "source": [
    "import logging as lg\n",
    "lg.basicConfig(filename='error.log' , level=lg.INFO)\n",
    "class sum_elements:\n",
    "        def __init__(self,n):\n",
    "            self.n=n\n",
    "            \n",
    "        def fun(self):\n",
    "            try:\n",
    "                li=[]\n",
    "                for i in range(self.n):\n",
    "                    li.append(int(input(\"Enter Number: \")))\n",
    "                print(max(li))\n",
    "            except Exception as e:\n",
    "                lg.info(str(e))      \n",
    "try:\n",
    "    n = int(input(\"Enter Number of elements: \"))\n",
    "    obj  = sum_elements(n)\n",
    "    obj.fun()\n",
    "except Exception as e:\n",
    "      lf.info(str(e))"
   ]
  },
  {
   "cell_type": "markdown",
   "metadata": {},
   "source": [
    "### 5. Write a Python program to find second largest number in a list?"
   ]
  },
  {
   "cell_type": "code",
   "execution_count": 5,
   "metadata": {},
   "outputs": [
    {
     "name": "stdout",
     "output_type": "stream",
     "text": [
      "Enter Number of elements: 4\n",
      "Enter Number: 2\n",
      "Enter Number: 6\n",
      "Enter Number: 3\n",
      "Enter Number: 7\n",
      "6\n"
     ]
    }
   ],
   "source": [
    "import logging as lg\n",
    "lg.basicConfig(filename='error.log' , level=lg.INFO)\n",
    "class sum_elements:\n",
    "        def __init__(self,n):\n",
    "            self.n=n\n",
    "            \n",
    "        def fun(self):\n",
    "            try:\n",
    "                li=[]\n",
    "                for i in range(self.n):\n",
    "                    li.append(int(input(\"Enter Number: \")))\n",
    "                li.sort()\n",
    "                print(li[self.n-2])\n",
    "            except Exception as e:\n",
    "                lg.info(str(e))      \n",
    "try:\n",
    "    n = int(input(\"Enter Number of elements: \"))\n",
    "    obj  = sum_elements(n)\n",
    "    obj.fun()\n",
    "except Exception as e:\n",
    "      lf.info(str(e))"
   ]
  },
  {
   "cell_type": "markdown",
   "metadata": {},
   "source": [
    "### 6. Write a Python program to find N largest elements from a list?"
   ]
  },
  {
   "cell_type": "code",
   "execution_count": 6,
   "metadata": {},
   "outputs": [
    {
     "name": "stdout",
     "output_type": "stream",
     "text": [
      "Enter Number of elements: 5\n",
      "Enter Number of largest elements: 1\n",
      "Enter Number: 9\n",
      "Enter Number: 12\n",
      "Enter Number: 3\n",
      "Enter Number: 4\n",
      "Enter Number: 1\n",
      "12 "
     ]
    }
   ],
   "source": [
    "import logging as lg\n",
    "lg.basicConfig(filename='error.log' , level=lg.INFO)\n",
    "class sum_elements:\n",
    "        def __init__(self,n,num):\n",
    "            self.n=n\n",
    "            self.num = num\n",
    "            \n",
    "        def fun(self):\n",
    "            try:\n",
    "                li=[]\n",
    "                for i in range(self.n):\n",
    "                    li.append(int(input(\"Enter Number: \")))\n",
    "                li.sort(reverse=True)\n",
    "                for i in range(self.num):\n",
    "                    print(li[i],end=\" \")\n",
    "            except Exception as e:\n",
    "                lg.info(str(e))      \n",
    "try:\n",
    "    n = int(input(\"Enter Number of elements: \"))\n",
    "    num = int(input(\"Enter Number of largest elements: \"))\n",
    "    obj  = sum_elements(n,num)\n",
    "    obj.fun()\n",
    "except Exception as e:\n",
    "      lf.info(str(e))"
   ]
  },
  {
   "cell_type": "markdown",
   "metadata": {},
   "source": [
    "### 7. Write a Python program to print even numbers in a list?"
   ]
  },
  {
   "cell_type": "code",
   "execution_count": 7,
   "metadata": {},
   "outputs": [
    {
     "name": "stdout",
     "output_type": "stream",
     "text": [
      "Enter Number of elements: 4\n",
      "Enter Number: 4\n",
      "Enter Number: 0\n",
      "Enter Number: 3\n",
      "Enter Number: 4\n",
      "4 0 4 "
     ]
    }
   ],
   "source": [
    "import logging as lg\n",
    "lg.basicConfig(filename='error.log' , level=lg.INFO)\n",
    "class sum_elements:\n",
    "        def __init__(self,n):\n",
    "            self.n=n\n",
    "            \n",
    "            \n",
    "        def fun(self):\n",
    "            try:\n",
    "                li=[]\n",
    "                for i in range(self.n):\n",
    "                    li.append(int(input(\"Enter Number: \")))\n",
    "                for i in range(self.n):\n",
    "                    if li[i]%2==0:\n",
    "                        print(li[i],end=\" \")\n",
    "            except Exception as e:\n",
    "                lg.info(str(e))      \n",
    "try:\n",
    "    n = int(input(\"Enter Number of elements: \"))\n",
    "    obj  = sum_elements(n)\n",
    "    obj.fun()\n",
    "except Exception as e:\n",
    "      lf.info(str(e))"
   ]
  },
  {
   "cell_type": "markdown",
   "metadata": {},
   "source": [
    "### 8. Write a Python program to print odd numbers in a List?"
   ]
  },
  {
   "cell_type": "code",
   "execution_count": 8,
   "metadata": {},
   "outputs": [
    {
     "name": "stdout",
     "output_type": "stream",
     "text": [
      "Enter Number of elements: 4\n",
      "Enter Number: 8\n",
      "Enter Number: 4\n",
      "Enter Number: 7\n",
      "Enter Number: 3\n",
      "7 3 "
     ]
    }
   ],
   "source": [
    "import logging as lg\n",
    "lg.basicConfig(filename='error.log' , level=lg.INFO)\n",
    "class sum_elements:\n",
    "        def __init__(self,n):\n",
    "            self.n=n\n",
    "            \n",
    "            \n",
    "        def fun(self):\n",
    "            try:\n",
    "                li=[]\n",
    "                for i in range(self.n):\n",
    "                    li.append(int(input(\"Enter Number: \")))\n",
    "                for i in range(self.n):\n",
    "                    if li[i]%2!=0:\n",
    "                        print(li[i],end=\" \")\n",
    "            except Exception as e:\n",
    "                lg.info(str(e))      \n",
    "try:\n",
    "    n = int(input(\"Enter Number of elements: \"))\n",
    "    obj  = sum_elements(n)\n",
    "    obj.fun()\n",
    "except Exception as e:\n",
    "      lf.info(str(e))"
   ]
  },
  {
   "cell_type": "markdown",
   "metadata": {},
   "source": [
    "### 9. Write a Python program to Remove empty List from List?"
   ]
  },
  {
   "cell_type": "code",
   "execution_count": 9,
   "metadata": {},
   "outputs": [
    {
     "name": "stdout",
     "output_type": "stream",
     "text": [
      "Original List =  [5, 6, [], 3, [], [], 9]\n",
      "List after empty list removal =  [5, 6, 3, 9]\n"
     ]
    }
   ],
   "source": [
    "import logging as lg\n",
    "lg.basicConfig(filename='error.log' , level=lg.INFO)\n",
    "class sum_elements:      \n",
    "        def fun(self):\n",
    "            try:\n",
    "                li = [5, 6, [], 3, [], [], 9]\n",
    "                print(\"Original List = \" , str(li))\n",
    "                my_final_list = [i for i in li if i!=[]]\n",
    "                print(\"List after empty list removal = \" , str(my_final_list))\n",
    "                        \n",
    "            except Exception as e:\n",
    "                lg.info(str(e))\n",
    "        def __str__(self):\n",
    "            return \"Class sum_elements created\"\n",
    "try:\n",
    "    obj  = sum_elements()\n",
    "    obj.fun()\n",
    "except Exception as e:\n",
    "      lg.info(str(e))"
   ]
  },
  {
   "cell_type": "markdown",
   "metadata": {},
   "source": [
    "### 10. Write a Python program to Cloning or Copying a list?"
   ]
  },
  {
   "cell_type": "code",
   "execution_count": 10,
   "metadata": {},
   "outputs": [
    {
     "name": "stdout",
     "output_type": "stream",
     "text": [
      "Original List: [4, 8, 2, 10, 15, 18]\n",
      "Copyied List: [4, 8, 2, 10, 15, 18]\n"
     ]
    }
   ],
   "source": [
    "def Cloning(li1):\n",
    "    li_copy = li1[:]\n",
    "    return li_copy\n",
    "  \n",
    "li1 = [4, 8, 2, 10, 15, 18]\n",
    "li2 = Cloning(li1)\n",
    "print(\"Original List:\", li1)\n",
    "print(\"Copyied List:\", li2)"
   ]
  },
  {
   "cell_type": "markdown",
   "metadata": {},
   "source": [
    "### 11. Write a Python program to Count occurrences of an element in a list?"
   ]
  },
  {
   "cell_type": "code",
   "execution_count": 11,
   "metadata": {},
   "outputs": [
    {
     "name": "stdout",
     "output_type": "stream",
     "text": [
      "4 : 1\n",
      "8 : 0\n",
      "2 : 1\n",
      "10 : 0\n",
      "15 : 0\n",
      "18 : 1\n",
      "4 : 0\n",
      "18 : 0\n",
      "2 : 0\n"
     ]
    }
   ],
   "source": [
    "def Count_elements(li):\n",
    "    count = 0\n",
    "    for i in range(len(li)):\n",
    "        num = li[i]\n",
    "        for j in range(i+1,len(li)):\n",
    "            if num == li[j]:\n",
    "                count+=1\n",
    "        print(num,\":\",count)\n",
    "        count=0\n",
    "  \n",
    "li = [4, 8, 2, 10, 15, 18 , 4 , 18 , 2]\n",
    "Count_elements(li)"
   ]
  },
  {
   "cell_type": "code",
   "execution_count": null,
   "metadata": {},
   "outputs": [],
   "source": []
  }
 ],
 "metadata": {
  "kernelspec": {
   "display_name": "Python 3",
   "language": "python",
   "name": "python3"
  },
  "language_info": {
   "codemirror_mode": {
    "name": "ipython",
    "version": 3
   },
   "file_extension": ".py",
   "mimetype": "text/x-python",
   "name": "python",
   "nbconvert_exporter": "python",
   "pygments_lexer": "ipython3",
   "version": "3.7.1"
  }
 },
 "nbformat": 4,
 "nbformat_minor": 2
}
